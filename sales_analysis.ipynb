{
 "cells": [
  {
   "cell_type": "code",
   "execution_count": 77,
   "metadata": {},
   "outputs": [],
   "source": [
    "import pandas as pd\n"
   ]
  },
  {
   "cell_type": "code",
   "execution_count": 78,
   "metadata": {},
   "outputs": [
    {
     "name": "stdout",
     "output_type": "stream",
     "text": [
      "Merged data saved to merged_data.csv\n"
     ]
    }
   ],
   "source": [
    "# List of file paths for your 9 CSV files\n",
    "file_paths = ['Sales_April_2019.csv', 'Sales_August_2019.csv', 'Sales_December_2019.csv', 'Sales_February_2019.csv', \n",
    "              'Sales_January_2019.csv', 'Sales_July_2019.csv', 'Sales_June_2019.csv', 'Sales_March_2019.csv', 'Sales_May_2019.csv', 'Sales_November_2019.csv',\n",
    "              'Sales_October_2019.csv', 'Sales_September_2019.csv']\n",
    "\n",
    "# Initialize an empty DataFrame to hold the merged data\n",
    "merged_data = pd.DataFrame()\n",
    "\n",
    "# Loop through each file and read its data into a DataFrame, then concatenate to the merged_data\n",
    "for file_path in file_paths:\n",
    "    df = pd.read_csv(file_path)\n",
    "    merged_data = pd.concat([merged_data, df], ignore_index=True)\n",
    "\n",
    "# Write the merged data to a new CSV file\n",
    "merged_data.to_csv('merged_data.csv', index=False)\n",
    "\n",
    "print(\"Merged data saved to merged_data.csv\")\n"
   ]
  },
  {
   "cell_type": "code",
   "execution_count": 79,
   "metadata": {},
   "outputs": [
    {
     "data": {
      "text/html": [
       "<div>\n",
       "<style scoped>\n",
       "    .dataframe tbody tr th:only-of-type {\n",
       "        vertical-align: middle;\n",
       "    }\n",
       "\n",
       "    .dataframe tbody tr th {\n",
       "        vertical-align: top;\n",
       "    }\n",
       "\n",
       "    .dataframe thead th {\n",
       "        text-align: right;\n",
       "    }\n",
       "</style>\n",
       "<table border=\"1\" class=\"dataframe\">\n",
       "  <thead>\n",
       "    <tr style=\"text-align: right;\">\n",
       "      <th></th>\n",
       "      <th>Order ID</th>\n",
       "      <th>Product</th>\n",
       "      <th>Quantity Ordered</th>\n",
       "      <th>Price Each</th>\n",
       "      <th>Order Date</th>\n",
       "      <th>Purchase Address</th>\n",
       "    </tr>\n",
       "  </thead>\n",
       "  <tbody>\n",
       "    <tr>\n",
       "      <th>73891</th>\n",
       "      <td>147268</td>\n",
       "      <td>Wired Headphones</td>\n",
       "      <td>1</td>\n",
       "      <td>11.99</td>\n",
       "      <td>01/01/19 03:07</td>\n",
       "      <td>9 Lake St, New York City, NY 10001</td>\n",
       "    </tr>\n",
       "    <tr>\n",
       "      <th>74701</th>\n",
       "      <td>148041</td>\n",
       "      <td>USB-C Charging Cable</td>\n",
       "      <td>1</td>\n",
       "      <td>11.95</td>\n",
       "      <td>01/01/19 03:40</td>\n",
       "      <td>760 Church St, San Francisco, CA 94016</td>\n",
       "    </tr>\n",
       "    <tr>\n",
       "      <th>76054</th>\n",
       "      <td>149343</td>\n",
       "      <td>Apple Airpods Headphones</td>\n",
       "      <td>1</td>\n",
       "      <td>150</td>\n",
       "      <td>01/01/19 04:56</td>\n",
       "      <td>735 5th St, New York City, NY 10001</td>\n",
       "    </tr>\n",
       "    <tr>\n",
       "      <th>76708</th>\n",
       "      <td>149964</td>\n",
       "      <td>AAA Batteries (4-pack)</td>\n",
       "      <td>1</td>\n",
       "      <td>2.99</td>\n",
       "      <td>01/01/19 05:53</td>\n",
       "      <td>75 Jackson St, Dallas, TX 75001</td>\n",
       "    </tr>\n",
       "    <tr>\n",
       "      <th>76061</th>\n",
       "      <td>149350</td>\n",
       "      <td>USB-C Charging Cable</td>\n",
       "      <td>2</td>\n",
       "      <td>11.95</td>\n",
       "      <td>01/01/19 06:03</td>\n",
       "      <td>943 2nd St, Atlanta, GA 30301</td>\n",
       "    </tr>\n",
       "  </tbody>\n",
       "</table>\n",
       "</div>"
      ],
      "text/plain": [
       "      Order ID                   Product Quantity Ordered Price Each   \n",
       "73891   147268          Wired Headphones                1      11.99  \\\n",
       "74701   148041      USB-C Charging Cable                1      11.95   \n",
       "76054   149343  Apple Airpods Headphones                1        150   \n",
       "76708   149964    AAA Batteries (4-pack)                1       2.99   \n",
       "76061   149350      USB-C Charging Cable                2      11.95   \n",
       "\n",
       "           Order Date                        Purchase Address  \n",
       "73891  01/01/19 03:07      9 Lake St, New York City, NY 10001  \n",
       "74701  01/01/19 03:40  760 Church St, San Francisco, CA 94016  \n",
       "76054  01/01/19 04:56     735 5th St, New York City, NY 10001  \n",
       "76708  01/01/19 05:53         75 Jackson St, Dallas, TX 75001  \n",
       "76061  01/01/19 06:03           943 2nd St, Atlanta, GA 30301  "
      ]
     },
     "execution_count": 79,
     "metadata": {},
     "output_type": "execute_result"
    }
   ],
   "source": [
    "sales = pd.read_csv('merged_data.csv')\n",
    "sales.sort_values('Order Date', inplace=True)\n",
    "sales.head()"
   ]
  },
  {
   "cell_type": "code",
   "execution_count": 80,
   "metadata": {},
   "outputs": [
    {
     "data": {
      "text/html": [
       "<div>\n",
       "<style scoped>\n",
       "    .dataframe tbody tr th:only-of-type {\n",
       "        vertical-align: middle;\n",
       "    }\n",
       "\n",
       "    .dataframe tbody tr th {\n",
       "        vertical-align: top;\n",
       "    }\n",
       "\n",
       "    .dataframe thead th {\n",
       "        text-align: right;\n",
       "    }\n",
       "</style>\n",
       "<table border=\"1\" class=\"dataframe\">\n",
       "  <thead>\n",
       "    <tr style=\"text-align: right;\">\n",
       "      <th></th>\n",
       "      <th>Order ID</th>\n",
       "      <th>Product</th>\n",
       "      <th>Quantity Ordered</th>\n",
       "      <th>Price Each</th>\n",
       "      <th>Purchase Address</th>\n",
       "      <th>Month</th>\n",
       "      <th>Day</th>\n",
       "      <th>Year</th>\n",
       "      <th>Time</th>\n",
       "    </tr>\n",
       "  </thead>\n",
       "  <tbody>\n",
       "    <tr>\n",
       "      <th>73891</th>\n",
       "      <td>147268</td>\n",
       "      <td>Wired Headphones</td>\n",
       "      <td>1</td>\n",
       "      <td>11.99</td>\n",
       "      <td>9 Lake St, New York City, NY 10001</td>\n",
       "      <td>01</td>\n",
       "      <td>01</td>\n",
       "      <td>19</td>\n",
       "      <td>03:07</td>\n",
       "    </tr>\n",
       "    <tr>\n",
       "      <th>74701</th>\n",
       "      <td>148041</td>\n",
       "      <td>USB-C Charging Cable</td>\n",
       "      <td>1</td>\n",
       "      <td>11.95</td>\n",
       "      <td>760 Church St, San Francisco, CA 94016</td>\n",
       "      <td>01</td>\n",
       "      <td>01</td>\n",
       "      <td>19</td>\n",
       "      <td>03:40</td>\n",
       "    </tr>\n",
       "    <tr>\n",
       "      <th>76054</th>\n",
       "      <td>149343</td>\n",
       "      <td>Apple Airpods Headphones</td>\n",
       "      <td>1</td>\n",
       "      <td>150</td>\n",
       "      <td>735 5th St, New York City, NY 10001</td>\n",
       "      <td>01</td>\n",
       "      <td>01</td>\n",
       "      <td>19</td>\n",
       "      <td>04:56</td>\n",
       "    </tr>\n",
       "    <tr>\n",
       "      <th>76708</th>\n",
       "      <td>149964</td>\n",
       "      <td>AAA Batteries (4-pack)</td>\n",
       "      <td>1</td>\n",
       "      <td>2.99</td>\n",
       "      <td>75 Jackson St, Dallas, TX 75001</td>\n",
       "      <td>01</td>\n",
       "      <td>01</td>\n",
       "      <td>19</td>\n",
       "      <td>05:53</td>\n",
       "    </tr>\n",
       "    <tr>\n",
       "      <th>76061</th>\n",
       "      <td>149350</td>\n",
       "      <td>USB-C Charging Cable</td>\n",
       "      <td>2</td>\n",
       "      <td>11.95</td>\n",
       "      <td>943 2nd St, Atlanta, GA 30301</td>\n",
       "      <td>01</td>\n",
       "      <td>01</td>\n",
       "      <td>19</td>\n",
       "      <td>06:03</td>\n",
       "    </tr>\n",
       "  </tbody>\n",
       "</table>\n",
       "</div>"
      ],
      "text/plain": [
       "      Order ID                   Product Quantity Ordered Price Each   \n",
       "73891   147268          Wired Headphones                1      11.99  \\\n",
       "74701   148041      USB-C Charging Cable                1      11.95   \n",
       "76054   149343  Apple Airpods Headphones                1        150   \n",
       "76708   149964    AAA Batteries (4-pack)                1       2.99   \n",
       "76061   149350      USB-C Charging Cable                2      11.95   \n",
       "\n",
       "                             Purchase Address Month Day Year   Time  \n",
       "73891      9 Lake St, New York City, NY 10001    01  01   19  03:07  \n",
       "74701  760 Church St, San Francisco, CA 94016    01  01   19  03:40  \n",
       "76054     735 5th St, New York City, NY 10001    01  01   19  04:56  \n",
       "76708         75 Jackson St, Dallas, TX 75001    01  01   19  05:53  \n",
       "76061           943 2nd St, Atlanta, GA 30301    01  01   19  06:03  "
      ]
     },
     "execution_count": 80,
     "metadata": {},
     "output_type": "execute_result"
    }
   ],
   "source": [
    "sales['Month'] = sales['Order Date'].str[:2]\n",
    "sales['Day'] = sales['Order Date'].str[3:5]\n",
    "sales['Year'] = sales['Order Date'].str[6:8]\n",
    "sales['Time'] = sales['Order Date'].str[9:14]\n",
    "sales = sales.drop('Order Date', axis=1)\n",
    "sales.head()"
   ]
  },
  {
   "cell_type": "code",
   "execution_count": 81,
   "metadata": {},
   "outputs": [
    {
     "data": {
      "text/plain": [
       "(186850, 9)"
      ]
     },
     "execution_count": 81,
     "metadata": {},
     "output_type": "execute_result"
    }
   ],
   "source": [
    "sales.shape"
   ]
  },
  {
   "cell_type": "code",
   "execution_count": 82,
   "metadata": {},
   "outputs": [
    {
     "data": {
      "text/plain": [
       "Order ID            545\n",
       "Product             545\n",
       "Quantity Ordered    545\n",
       "Price Each          545\n",
       "Purchase Address    545\n",
       "Month               545\n",
       "Day                 545\n",
       "Year                545\n",
       "Time                545\n",
       "dtype: int64"
      ]
     },
     "execution_count": 82,
     "metadata": {},
     "output_type": "execute_result"
    }
   ],
   "source": [
    "sales.isna().sum()"
   ]
  },
  {
   "cell_type": "code",
   "execution_count": 83,
   "metadata": {},
   "outputs": [],
   "source": [
    "sales=sales.dropna()"
   ]
  },
  {
   "cell_type": "code",
   "execution_count": 84,
   "metadata": {},
   "outputs": [
    {
     "data": {
      "text/plain": [
       "Order ID            0\n",
       "Product             0\n",
       "Quantity Ordered    0\n",
       "Price Each          0\n",
       "Purchase Address    0\n",
       "Month               0\n",
       "Day                 0\n",
       "Year                0\n",
       "Time                0\n",
       "dtype: int64"
      ]
     },
     "execution_count": 84,
     "metadata": {},
     "output_type": "execute_result"
    }
   ],
   "source": [
    "sales.isna().sum()"
   ]
  },
  {
   "cell_type": "code",
   "execution_count": 85,
   "metadata": {},
   "outputs": [
    {
     "data": {
      "text/html": [
       "<div>\n",
       "<style scoped>\n",
       "    .dataframe tbody tr th:only-of-type {\n",
       "        vertical-align: middle;\n",
       "    }\n",
       "\n",
       "    .dataframe tbody tr th {\n",
       "        vertical-align: top;\n",
       "    }\n",
       "\n",
       "    .dataframe thead th {\n",
       "        text-align: right;\n",
       "    }\n",
       "</style>\n",
       "<table border=\"1\" class=\"dataframe\">\n",
       "  <thead>\n",
       "    <tr style=\"text-align: right;\">\n",
       "      <th></th>\n",
       "      <th>Order ID</th>\n",
       "      <th>Product</th>\n",
       "      <th>Quantity Ordered</th>\n",
       "      <th>Price Each</th>\n",
       "      <th>Purchase Address</th>\n",
       "      <th>Month</th>\n",
       "      <th>Day</th>\n",
       "      <th>Year</th>\n",
       "      <th>Time</th>\n",
       "    </tr>\n",
       "  </thead>\n",
       "  <tbody>\n",
       "    <tr>\n",
       "      <th>73891</th>\n",
       "      <td>147268</td>\n",
       "      <td>Wired Headphones</td>\n",
       "      <td>1</td>\n",
       "      <td>11.99</td>\n",
       "      <td>9 Lake St, New York City, NY 10001</td>\n",
       "      <td>01</td>\n",
       "      <td>01</td>\n",
       "      <td>19</td>\n",
       "      <td>03:07</td>\n",
       "    </tr>\n",
       "    <tr>\n",
       "      <th>74701</th>\n",
       "      <td>148041</td>\n",
       "      <td>USB-C Charging Cable</td>\n",
       "      <td>1</td>\n",
       "      <td>11.95</td>\n",
       "      <td>760 Church St, San Francisco, CA 94016</td>\n",
       "      <td>01</td>\n",
       "      <td>01</td>\n",
       "      <td>19</td>\n",
       "      <td>03:40</td>\n",
       "    </tr>\n",
       "    <tr>\n",
       "      <th>76054</th>\n",
       "      <td>149343</td>\n",
       "      <td>Apple Airpods Headphones</td>\n",
       "      <td>1</td>\n",
       "      <td>150</td>\n",
       "      <td>735 5th St, New York City, NY 10001</td>\n",
       "      <td>01</td>\n",
       "      <td>01</td>\n",
       "      <td>19</td>\n",
       "      <td>04:56</td>\n",
       "    </tr>\n",
       "    <tr>\n",
       "      <th>76708</th>\n",
       "      <td>149964</td>\n",
       "      <td>AAA Batteries (4-pack)</td>\n",
       "      <td>1</td>\n",
       "      <td>2.99</td>\n",
       "      <td>75 Jackson St, Dallas, TX 75001</td>\n",
       "      <td>01</td>\n",
       "      <td>01</td>\n",
       "      <td>19</td>\n",
       "      <td>05:53</td>\n",
       "    </tr>\n",
       "    <tr>\n",
       "      <th>76061</th>\n",
       "      <td>149350</td>\n",
       "      <td>USB-C Charging Cable</td>\n",
       "      <td>2</td>\n",
       "      <td>11.95</td>\n",
       "      <td>943 2nd St, Atlanta, GA 30301</td>\n",
       "      <td>01</td>\n",
       "      <td>01</td>\n",
       "      <td>19</td>\n",
       "      <td>06:03</td>\n",
       "    </tr>\n",
       "  </tbody>\n",
       "</table>\n",
       "</div>"
      ],
      "text/plain": [
       "      Order ID                   Product Quantity Ordered Price Each   \n",
       "73891   147268          Wired Headphones                1      11.99  \\\n",
       "74701   148041      USB-C Charging Cable                1      11.95   \n",
       "76054   149343  Apple Airpods Headphones                1        150   \n",
       "76708   149964    AAA Batteries (4-pack)                1       2.99   \n",
       "76061   149350      USB-C Charging Cable                2      11.95   \n",
       "\n",
       "                             Purchase Address Month Day Year   Time  \n",
       "73891      9 Lake St, New York City, NY 10001    01  01   19  03:07  \n",
       "74701  760 Church St, San Francisco, CA 94016    01  01   19  03:40  \n",
       "76054     735 5th St, New York City, NY 10001    01  01   19  04:56  \n",
       "76708         75 Jackson St, Dallas, TX 75001    01  01   19  05:53  \n",
       "76061           943 2nd St, Atlanta, GA 30301    01  01   19  06:03  "
      ]
     },
     "execution_count": 85,
     "metadata": {},
     "output_type": "execute_result"
    }
   ],
   "source": [
    "sales = sales.drop_duplicates()\n",
    "sales.head()"
   ]
  },
  {
   "cell_type": "code",
   "execution_count": 86,
   "metadata": {},
   "outputs": [],
   "source": [
    "sales.to_csv('final_data.csv')"
   ]
  }
 ],
 "metadata": {
  "kernelspec": {
   "display_name": "Python 3",
   "language": "python",
   "name": "python3"
  },
  "language_info": {
   "codemirror_mode": {
    "name": "ipython",
    "version": 3
   },
   "file_extension": ".py",
   "mimetype": "text/x-python",
   "name": "python",
   "nbconvert_exporter": "python",
   "pygments_lexer": "ipython3",
   "version": "3.11.4"
  },
  "orig_nbformat": 4
 },
 "nbformat": 4,
 "nbformat_minor": 2
}
